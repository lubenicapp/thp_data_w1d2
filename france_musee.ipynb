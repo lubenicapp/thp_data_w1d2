{
 "cells": [
  {
   "cell_type": "markdown",
   "id": "7dc9b3e6",
   "metadata": {},
   "source": [
    "# Le tour de France des musées"
   ]
  },
  {
   "cell_type": "code",
   "execution_count": 1,
   "id": "7676a3bf",
   "metadata": {},
   "outputs": [],
   "source": [
    "# libraries\n",
    "import pandas as pd\n",
    "import numpy as np"
   ]
  },
  {
   "cell_type": "code",
   "execution_count": 2,
   "id": "8c38711b",
   "metadata": {},
   "outputs": [],
   "source": [
    "# load data\n",
    "df = pd.read_csv('data.csv', delimiter=';', encoding='latin1')"
   ]
  },
  {
   "cell_type": "markdown",
   "id": "78611d31",
   "metadata": {},
   "source": [
    "___"
   ]
  },
  {
   "cell_type": "markdown",
   "id": "6080212c",
   "metadata": {},
   "source": [
    "### Appercu des données (5 entrées aléatoires)"
   ]
  },
  {
   "cell_type": "code",
   "execution_count": 3,
   "id": "84ec0b5b",
   "metadata": {},
   "outputs": [
    {
     "data": {
      "text/html": [
       "<div>\n",
       "<style scoped>\n",
       "    .dataframe tbody tr th:only-of-type {\n",
       "        vertical-align: middle;\n",
       "    }\n",
       "\n",
       "    .dataframe tbody tr th {\n",
       "        vertical-align: top;\n",
       "    }\n",
       "\n",
       "    .dataframe thead th {\n",
       "        text-align: right;\n",
       "    }\n",
       "</style>\n",
       "<table border=\"1\" class=\"dataframe\">\n",
       "  <thead>\n",
       "    <tr style=\"text-align: right;\">\n",
       "      <th></th>\n",
       "      <th>osm_id</th>\n",
       "      <th>name</th>\n",
       "      <th>number</th>\n",
       "      <th>street</th>\n",
       "      <th>postal_code</th>\n",
       "      <th>city</th>\n",
       "      <th>country</th>\n",
       "      <th>country_code</th>\n",
       "      <th>lat</th>\n",
       "      <th>lon</th>\n",
       "      <th>website</th>\n",
       "      <th>email</th>\n",
       "      <th>phone</th>\n",
       "      <th>fax</th>\n",
       "      <th>tags</th>\n",
       "      <th>description</th>\n",
       "      <th>date_added</th>\n",
       "      <th>wikidata</th>\n",
       "    </tr>\n",
       "  </thead>\n",
       "  <tbody>\n",
       "    <tr>\n",
       "      <th>1578</th>\n",
       "      <td>4333063561</td>\n",
       "      <td>Musé du Vitrail</td>\n",
       "      <td>NaN</td>\n",
       "      <td>Route de Sanxay</td>\n",
       "      <td>86600.0</td>\n",
       "      <td>Curzay-sur-Vonne</td>\n",
       "      <td>France</td>\n",
       "      <td>fr</td>\n",
       "      <td>46.490902</td>\n",
       "      <td>0.043856</td>\n",
       "      <td>http://www.musee-du-vitrail.com/</td>\n",
       "      <td>NaN</td>\n",
       "      <td>NaN</td>\n",
       "      <td>NaN</td>\n",
       "      <td>osm:museum;type:musee technique et industriel</td>\n",
       "      <td>NaN</td>\n",
       "      <td>42585,0242939815</td>\n",
       "      <td>NaN</td>\n",
       "    </tr>\n",
       "    <tr>\n",
       "      <th>3061</th>\n",
       "      <td>5827811617</td>\n",
       "      <td>Musée Gertrude Schoen</td>\n",
       "      <td>NaN</td>\n",
       "      <td>Impasse du Donjon</td>\n",
       "      <td>47340.0</td>\n",
       "      <td>Laroque-Timbaut</td>\n",
       "      <td>France</td>\n",
       "      <td>fr</td>\n",
       "      <td>44.282700</td>\n",
       "      <td>0.760782</td>\n",
       "      <td>NaN</td>\n",
       "      <td>NaN</td>\n",
       "      <td>NaN</td>\n",
       "      <td>NaN</td>\n",
       "      <td>osm:museum</td>\n",
       "      <td>NaN</td>\n",
       "      <td>43324,9078240741</td>\n",
       "      <td>NaN</td>\n",
       "    </tr>\n",
       "    <tr>\n",
       "      <th>1557</th>\n",
       "      <td>930071765</td>\n",
       "      <td>Moulin de La Rouzique</td>\n",
       "      <td>NaN</td>\n",
       "      <td>Chemin des Guillandoux</td>\n",
       "      <td>24150.0</td>\n",
       "      <td>Couze-et-Saint-Front</td>\n",
       "      <td>France</td>\n",
       "      <td>fr</td>\n",
       "      <td>44.829980</td>\n",
       "      <td>0.702082</td>\n",
       "      <td>NaN</td>\n",
       "      <td>NaN</td>\n",
       "      <td>NaN</td>\n",
       "      <td>NaN</td>\n",
       "      <td>osm:museum;type:ecomusee</td>\n",
       "      <td>NaN</td>\n",
       "      <td>41408,7629513889</td>\n",
       "      <td>NaN</td>\n",
       "    </tr>\n",
       "    <tr>\n",
       "      <th>465</th>\n",
       "      <td>95358738</td>\n",
       "      <td>Ecomusée de l'Avesnois</td>\n",
       "      <td>NaN</td>\n",
       "      <td>Place Maria Blondeau</td>\n",
       "      <td>59612.0</td>\n",
       "      <td>Fourmies</td>\n",
       "      <td>France</td>\n",
       "      <td>fr</td>\n",
       "      <td>50.017585</td>\n",
       "      <td>4.042354</td>\n",
       "      <td>http://www.ecomusee-avesnois.fr/</td>\n",
       "      <td>NaN</td>\n",
       "      <td>NaN</td>\n",
       "      <td>NaN</td>\n",
       "      <td>osm:museum;type:ecomusee</td>\n",
       "      <td>NaN</td>\n",
       "      <td>43007,1936921296</td>\n",
       "      <td>Q3578600</td>\n",
       "    </tr>\n",
       "    <tr>\n",
       "      <th>776</th>\n",
       "      <td>65742737</td>\n",
       "      <td>Hôtel des Sires de Neuchâtel</td>\n",
       "      <td>NaN</td>\n",
       "      <td>Place du Général de Gaulle</td>\n",
       "      <td>25110.0</td>\n",
       "      <td>Baume-les-Dames</td>\n",
       "      <td>France</td>\n",
       "      <td>fr</td>\n",
       "      <td>47.352715</td>\n",
       "      <td>6.360958</td>\n",
       "      <td>NaN</td>\n",
       "      <td>NaN</td>\n",
       "      <td>NaN</td>\n",
       "      <td>NaN</td>\n",
       "      <td>osm:museum</td>\n",
       "      <td>NaN</td>\n",
       "      <td>43043,4666435185</td>\n",
       "      <td>Q3146262</td>\n",
       "    </tr>\n",
       "  </tbody>\n",
       "</table>\n",
       "</div>"
      ],
      "text/plain": [
       "          osm_id                          name number  \\\n",
       "1578  4333063561               Musé du Vitrail    NaN   \n",
       "3061  5827811617         Musée Gertrude Schoen    NaN   \n",
       "1557   930071765         Moulin de La Rouzique    NaN   \n",
       "465     95358738        Ecomusée de l'Avesnois    NaN   \n",
       "776     65742737  Hôtel des Sires de Neuchâtel    NaN   \n",
       "\n",
       "                          street  postal_code                  city country  \\\n",
       "1578             Route de Sanxay      86600.0      Curzay-sur-Vonne  France   \n",
       "3061           Impasse du Donjon      47340.0       Laroque-Timbaut  France   \n",
       "1557      Chemin des Guillandoux      24150.0  Couze-et-Saint-Front  France   \n",
       "465         Place Maria Blondeau      59612.0              Fourmies  France   \n",
       "776   Place du Général de Gaulle      25110.0       Baume-les-Dames  France   \n",
       "\n",
       "     country_code        lat       lon                           website  \\\n",
       "1578           fr  46.490902  0.043856  http://www.musee-du-vitrail.com/   \n",
       "3061           fr  44.282700  0.760782                               NaN   \n",
       "1557           fr  44.829980  0.702082                               NaN   \n",
       "465            fr  50.017585  4.042354  http://www.ecomusee-avesnois.fr/   \n",
       "776            fr  47.352715  6.360958                               NaN   \n",
       "\n",
       "     email  phone  fax                                           tags  \\\n",
       "1578   NaN    NaN  NaN  osm:museum;type:musee technique et industriel   \n",
       "3061   NaN    NaN  NaN                                     osm:museum   \n",
       "1557   NaN    NaN  NaN                       osm:museum;type:ecomusee   \n",
       "465    NaN    NaN  NaN                       osm:museum;type:ecomusee   \n",
       "776    NaN    NaN  NaN                                     osm:museum   \n",
       "\n",
       "     description        date_added  wikidata  \n",
       "1578         NaN  42585,0242939815       NaN  \n",
       "3061         NaN  43324,9078240741       NaN  \n",
       "1557         NaN  41408,7629513889       NaN  \n",
       "465          NaN  43007,1936921296  Q3578600  \n",
       "776          NaN  43043,4666435185  Q3146262  "
      ]
     },
     "execution_count": 3,
     "metadata": {},
     "output_type": "execute_result"
    }
   ],
   "source": [
    "df.sample(5, random_state=42)"
   ]
  },
  {
   "cell_type": "markdown",
   "id": "a088d15b",
   "metadata": {},
   "source": [
    "### Combien y-a-t-il de musées en France métropolitaine ?"
   ]
  },
  {
   "cell_type": "code",
   "execution_count": 30,
   "id": "d155d31b",
   "metadata": {},
   "outputs": [
    {
     "data": {
      "text/plain": [
       "3784"
      ]
     },
     "execution_count": 30,
     "metadata": {},
     "output_type": "execute_result"
    }
   ],
   "source": [
    "df.shape[0]"
   ]
  },
  {
   "cell_type": "markdown",
   "id": "23e21e6f",
   "metadata": {},
   "source": [
    "___"
   ]
  },
  {
   "cell_type": "markdown",
   "id": "8a3efaad",
   "metadata": {},
   "source": [
    "### Dans quelle(s) ville(s) y-a-t-il de plus de musées ?"
   ]
  },
  {
   "cell_type": "code",
   "execution_count": 56,
   "id": "a6bc1d5b",
   "metadata": {},
   "outputs": [],
   "source": [
    "serie = df.groupby(['city'])['city'].count().sort_values(ascending=False)"
   ]
  },
  {
   "cell_type": "code",
   "execution_count": 66,
   "id": "f0b4d577",
   "metadata": {},
   "outputs": [
    {
     "data": {
      "text/plain": [
       "'Paris'"
      ]
     },
     "execution_count": 66,
     "metadata": {},
     "output_type": "execute_result"
    }
   ],
   "source": [
    "serie[serie==serie[0]].index[0]"
   ]
  },
  {
   "cell_type": "code",
   "execution_count": 67,
   "id": "b0245862",
   "metadata": {},
   "outputs": [
    {
     "data": {
      "text/plain": [
       "175"
      ]
     },
     "execution_count": 67,
     "metadata": {},
     "output_type": "execute_result"
    }
   ],
   "source": [
    "serie[0]"
   ]
  },
  {
   "cell_type": "markdown",
   "id": "180ba2d9",
   "metadata": {},
   "source": [
    "#### Paris est la ville comprenant le plus de musées (175)"
   ]
  },
  {
   "cell_type": "markdown",
   "id": "c07e758a",
   "metadata": {},
   "source": [
    "___"
   ]
  },
  {
   "cell_type": "markdown",
   "id": "08d3f3e8",
   "metadata": {},
   "source": [
    "### Quel est le nombre moyen de musées par ville ?"
   ]
  },
  {
   "cell_type": "code",
   "execution_count": 71,
   "id": "029e2ca0",
   "metadata": {},
   "outputs": [],
   "source": [
    "# Le 1er janvier 2022, la France compte : \n",
    "# 34 826 communes en métropole dans les 96 départements métropolitains et le Grand Lyon\n",
    "# (Wikipedia : https://fr.wikipedia.org/wiki/Nombre_de_communes_en_France)"
   ]
  },
  {
   "cell_type": "markdown",
   "id": "1a005376",
   "metadata": {},
   "source": [
    "Ici on divise le nombre de musées en France Métropolitaine par son nombre de villes.\n",
    "le calcul np.mean(serie) aurait mené à une erreur de biais de séléction, car il n'existe peut-être pas d'entrée pour des villes n'ayant pas de musée"
   ]
  },
  {
   "cell_type": "code",
   "execution_count": 74,
   "id": "661350ca",
   "metadata": {},
   "outputs": [
    {
     "data": {
      "text/plain": [
       "0.10859702521104922"
      ]
     },
     "execution_count": 74,
     "metadata": {},
     "output_type": "execute_result"
    }
   ],
   "source": [
    "np.sum(serie)/34826"
   ]
  },
  {
   "cell_type": "code",
   "execution_count": 76,
   "id": "d12d6fca",
   "metadata": {},
   "outputs": [
    {
     "data": {
      "text/plain": [
       "1.647930283224401"
      ]
     },
     "execution_count": 76,
     "metadata": {},
     "output_type": "execute_result"
    }
   ],
   "source": [
    "# mauvais résultat :\n",
    "np.mean(serie)"
   ]
  },
  {
   "cell_type": "markdown",
   "id": "4e4b60f7",
   "metadata": {},
   "source": [
    "___"
   ]
  },
  {
   "cell_type": "markdown",
   "id": "d42aeff7",
   "metadata": {},
   "source": [
    "### Quel est le nombre médian de musées par ville ?"
   ]
  },
  {
   "cell_type": "markdown",
   "id": "a8b24fc3",
   "metadata": {},
   "source": [
    "Avec la même logique que précédemment, il y a 3784 villes avec un musée en France Métropolitaine, pour 34826 communes. la médiane est évidemment 0"
   ]
  },
  {
   "cell_type": "code",
   "execution_count": 78,
   "id": "3a8146c7",
   "metadata": {},
   "outputs": [
    {
     "data": {
      "text/plain": [
       "0"
      ]
     },
     "execution_count": 78,
     "metadata": {},
     "output_type": "execute_result"
    }
   ],
   "source": [
    "0"
   ]
  },
  {
   "cell_type": "code",
   "execution_count": 77,
   "id": "fc21296c",
   "metadata": {},
   "outputs": [
    {
     "data": {
      "text/plain": [
       "1.0"
      ]
     },
     "execution_count": 77,
     "metadata": {},
     "output_type": "execute_result"
    }
   ],
   "source": [
    "# mauvais résultat :\n",
    "np.median(serie)"
   ]
  },
  {
   "cell_type": "markdown",
   "id": "888e9626",
   "metadata": {},
   "source": [
    "___"
   ]
  },
  {
   "cell_type": "markdown",
   "id": "0a8e4c1f",
   "metadata": {},
   "source": [
    "### Comment sont répartis les musées par type (en pourcentage) ?"
   ]
  },
  {
   "cell_type": "code",
   "execution_count": 80,
   "id": "63ae6b75",
   "metadata": {},
   "outputs": [],
   "source": [
    "# le type de musée se trouve dans la colonne tag, qui semble être de la forme tag:text;tag:text\n",
    "# il faut parser cette colonne"
   ]
  },
  {
   "cell_type": "code",
   "execution_count": 108,
   "id": "4724834c",
   "metadata": {},
   "outputs": [],
   "source": [
    "def extract_tag(tags):\n",
    "    types = [t.split(':')[-1] for t in str(tags).split(';') if 'type' in t]\n",
    "    if len(types) == 0:\n",
    "        return None\n",
    "    return types[0]\n",
    "\n",
    "vextract = np.vectorize(extract_tag)"
   ]
  },
  {
   "cell_type": "code",
   "execution_count": 121,
   "id": "c4ef6fff",
   "metadata": {},
   "outputs": [],
   "source": [
    "df['type'] = pd.Series(vextract(df['tags']))"
   ]
  },
  {
   "cell_type": "code",
   "execution_count": 122,
   "id": "5754eaa2",
   "metadata": {},
   "outputs": [
    {
     "data": {
      "text/plain": [
       "ecomusee                         387\n",
       "musee technique et industriel    209\n",
       "musee d'histoire                 156\n",
       "musee de beaux-arts              117\n",
       "musee archeologique              107\n",
       "musee d'art                       84\n",
       "maison d'artiste                  66\n",
       "musee d'histoire naturelle        57\n",
       "musee d'arts populaires           52\n",
       "centre d'interpretation           46\n",
       "musee de sciences                 22\n",
       "centre d'art                      20\n",
       "fondation                         18\n",
       "musee d'artiste                   15\n",
       "musee litteraire                   9\n",
       "atelier d'artiste                  8\n",
       "bibliotheque                       4\n",
       "musee ethnographique               3\n",
       "musée de beaux-arts                2\n",
       "musee d'architecture               1\n",
       "ecomuseum                          1\n",
       "Name: type, dtype: int64"
      ]
     },
     "execution_count": 122,
     "metadata": {},
     "output_type": "execute_result"
    }
   ],
   "source": [
    "df['type'].dropna().value_counts()"
   ]
  },
  {
   "cell_type": "markdown",
   "id": "8e049727",
   "metadata": {},
   "source": [
    "#### Ici nous avons les valeurs absolues. maintenant, en pourcentage : "
   ]
  },
  {
   "cell_type": "code",
   "execution_count": 127,
   "id": "aeee3cc8",
   "metadata": {},
   "outputs": [
    {
     "data": {
      "text/plain": [
       "ecomusee                         27.962428\n",
       "musee technique et industriel    15.101156\n",
       "musee d'histoire                 11.271676\n",
       "musee de beaux-arts               8.453757\n",
       "musee archeologique               7.731214\n",
       "musee d'art                       6.069364\n",
       "maison d'artiste                  4.768786\n",
       "musee d'histoire naturelle        4.118497\n",
       "musee d'arts populaires           3.757225\n",
       "centre d'interpretation           3.323699\n",
       "musee de sciences                 1.589595\n",
       "centre d'art                      1.445087\n",
       "fondation                         1.300578\n",
       "musee d'artiste                   1.083815\n",
       "musee litteraire                  0.650289\n",
       "atelier d'artiste                 0.578035\n",
       "bibliotheque                      0.289017\n",
       "musee ethnographique              0.216763\n",
       "musée de beaux-arts               0.144509\n",
       "musee d'architecture              0.072254\n",
       "ecomuseum                         0.072254\n",
       "Name: type, dtype: float64"
      ]
     },
     "execution_count": 127,
     "metadata": {},
     "output_type": "execute_result"
    }
   ],
   "source": [
    "df['type'].dropna().value_counts(normalize=True) * 100"
   ]
  },
  {
   "cell_type": "markdown",
   "id": "8a6e2704",
   "metadata": {},
   "source": [
    "___"
   ]
  },
  {
   "cell_type": "markdown",
   "id": "60f312f1",
   "metadata": {},
   "source": [
    "### Combien y-a-t-il de musées dont le nom commence par \"Château\" ?"
   ]
  },
  {
   "cell_type": "code",
   "execution_count": 131,
   "id": "80655284",
   "metadata": {},
   "outputs": [
    {
     "data": {
      "text/plain": [
       "57"
      ]
     },
     "execution_count": 131,
     "metadata": {},
     "output_type": "execute_result"
    }
   ],
   "source": [
    "df[df['name'].str.startswith('Château')].shape[0]"
   ]
  },
  {
   "cell_type": "markdown",
   "id": "e5eb1596",
   "metadata": {},
   "source": [
    "___"
   ]
  },
  {
   "cell_type": "markdown",
   "id": "52ae8d0d",
   "metadata": {},
   "source": [
    "### Pour combien de musées dispose-t-on de l'adresse du site web ?"
   ]
  },
  {
   "cell_type": "code",
   "execution_count": 135,
   "id": "a3c3d62f",
   "metadata": {},
   "outputs": [
    {
     "data": {
      "text/plain": [
       "301"
      ]
     },
     "execution_count": 135,
     "metadata": {},
     "output_type": "execute_result"
    }
   ],
   "source": [
    "df['email'].dropna().count()"
   ]
  },
  {
   "cell_type": "markdown",
   "id": "c36456b5",
   "metadata": {},
   "source": [
    "___"
   ]
  },
  {
   "cell_type": "markdown",
   "id": "f446520d",
   "metadata": {},
   "source": [
    "### Quel département français possède le plus de musées sur son territoire ?"
   ]
  },
  {
   "cell_type": "code",
   "execution_count": 151,
   "id": "aef1f026",
   "metadata": {},
   "outputs": [],
   "source": [
    "def dept(postal_code):\n",
    "    return postal_code[0:2]\n",
    "vdept = np.vectorize(dept)"
   ]
  },
  {
   "cell_type": "code",
   "execution_count": 150,
   "id": "a551bd77",
   "metadata": {},
   "outputs": [
    {
     "data": {
      "text/plain": [
       "'65'"
      ]
     },
     "execution_count": 150,
     "metadata": {},
     "output_type": "execute_result"
    }
   ],
   "source": []
  },
  {
   "cell_type": "code",
   "execution_count": 152,
   "id": "505ee700",
   "metadata": {},
   "outputs": [],
   "source": [
    "df['dept'] = vdept(df['postal_code'])"
   ]
  },
  {
   "cell_type": "code",
   "execution_count": 159,
   "id": "50bb05df",
   "metadata": {},
   "outputs": [
    {
     "data": {
      "text/plain": [
       "75    180\n",
       "59     97\n",
       "33     94\n",
       "71     91\n",
       "13     90\n",
       "     ... \n",
       "28     14\n",
       "23     11\n",
       "90     10\n",
       "48      9\n",
       "98      8\n",
       "Name: dept, Length: 88, dtype: int64"
      ]
     },
     "execution_count": 159,
     "metadata": {},
     "output_type": "execute_result"
    }
   ],
   "source": [
    "df['dept'].value_counts()"
   ]
  },
  {
   "cell_type": "markdown",
   "id": "1d02ea91",
   "metadata": {},
   "source": [
    "Ici nous découvrons que le département 98 qui n'est pas en France métropolitaine s'est glissé dans nos data.\n",
    "cela ne fausse pas sensiblement les résultats obtenus précédemment"
   ]
  },
  {
   "cell_type": "markdown",
   "id": "7335e522",
   "metadata": {},
   "source": [
    "#### Département avec le plus de musées :"
   ]
  },
  {
   "cell_type": "markdown",
   "id": "a7774720",
   "metadata": {},
   "source": [
    "Paris"
   ]
  },
  {
   "cell_type": "markdown",
   "id": "ae8884d6",
   "metadata": {},
   "source": [
    "#### Département avec le moins de musées:"
   ]
  },
  {
   "cell_type": "markdown",
   "id": "4c146985",
   "metadata": {},
   "source": [
    "Lozère"
   ]
  },
  {
   "cell_type": "markdown",
   "id": "9be742fa",
   "metadata": {},
   "source": [
    "___"
   ]
  },
  {
   "cell_type": "markdown",
   "id": "8fdc0dc0",
   "metadata": {},
   "source": [
    "### Combien de musées ont \"Napoléon\" dans leur nom ?"
   ]
  },
  {
   "cell_type": "code",
   "execution_count": 167,
   "id": "6516bc31",
   "metadata": {},
   "outputs": [
    {
     "data": {
      "text/html": [
       "<div>\n",
       "<style scoped>\n",
       "    .dataframe tbody tr th:only-of-type {\n",
       "        vertical-align: middle;\n",
       "    }\n",
       "\n",
       "    .dataframe tbody tr th {\n",
       "        vertical-align: top;\n",
       "    }\n",
       "\n",
       "    .dataframe thead th {\n",
       "        text-align: right;\n",
       "    }\n",
       "</style>\n",
       "<table border=\"1\" class=\"dataframe\">\n",
       "  <thead>\n",
       "    <tr style=\"text-align: right;\">\n",
       "      <th></th>\n",
       "      <th>osm_id</th>\n",
       "      <th>name</th>\n",
       "      <th>number</th>\n",
       "      <th>street</th>\n",
       "      <th>postal_code</th>\n",
       "      <th>city</th>\n",
       "      <th>country</th>\n",
       "      <th>country_code</th>\n",
       "      <th>lat</th>\n",
       "      <th>lon</th>\n",
       "      <th>...</th>\n",
       "      <th>email</th>\n",
       "      <th>phone</th>\n",
       "      <th>fax</th>\n",
       "      <th>tags</th>\n",
       "      <th>description</th>\n",
       "      <th>date_added</th>\n",
       "      <th>wikidata</th>\n",
       "      <th>type</th>\n",
       "      <th>departement</th>\n",
       "      <th>dept</th>\n",
       "    </tr>\n",
       "  </thead>\n",
       "  <tbody>\n",
       "    <tr>\n",
       "      <th>3259</th>\n",
       "      <td>3678466279</td>\n",
       "      <td>Musée Napoléon</td>\n",
       "      <td>NaN</td>\n",
       "      <td>D 32</td>\n",
       "      <td>nan</td>\n",
       "      <td>Périgueux</td>\n",
       "      <td>France</td>\n",
       "      <td>fr</td>\n",
       "      <td>44.974544</td>\n",
       "      <td>0.837015</td>\n",
       "      <td>...</td>\n",
       "      <td>NaN</td>\n",
       "      <td>NaN</td>\n",
       "      <td>NaN</td>\n",
       "      <td>osm:museum</td>\n",
       "      <td>NaN</td>\n",
       "      <td>43811,9434027778</td>\n",
       "      <td>Q2178225</td>\n",
       "      <td>None</td>\n",
       "      <td>na</td>\n",
       "      <td>na</td>\n",
       "    </tr>\n",
       "    <tr>\n",
       "      <th>3260</th>\n",
       "      <td>64991060</td>\n",
       "      <td>Musée Napoléon</td>\n",
       "      <td>NaN</td>\n",
       "      <td>Rue des Remparts</td>\n",
       "      <td>17123</td>\n",
       "      <td>Île-d'Aix</td>\n",
       "      <td>France</td>\n",
       "      <td>fr</td>\n",
       "      <td>46.013011</td>\n",
       "      <td>-1.174656</td>\n",
       "      <td>...</td>\n",
       "      <td>NaN</td>\n",
       "      <td>3.354685e+10</td>\n",
       "      <td>NaN</td>\n",
       "      <td>osm:museum</td>\n",
       "      <td>NaN</td>\n",
       "      <td>43546,4584375</td>\n",
       "      <td>NaN</td>\n",
       "      <td>None</td>\n",
       "      <td>17</td>\n",
       "      <td>17</td>\n",
       "    </tr>\n",
       "    <tr>\n",
       "      <th>3261</th>\n",
       "      <td>480527098</td>\n",
       "      <td>Musée Napoléon Ier</td>\n",
       "      <td>NaN</td>\n",
       "      <td>Rue de la Perrière</td>\n",
       "      <td>21220</td>\n",
       "      <td>Fixin</td>\n",
       "      <td>France</td>\n",
       "      <td>fr</td>\n",
       "      <td>47.245420</td>\n",
       "      <td>4.962403</td>\n",
       "      <td>...</td>\n",
       "      <td>NaN</td>\n",
       "      <td>3.338052e+10</td>\n",
       "      <td>NaN</td>\n",
       "      <td>osm:museum</td>\n",
       "      <td>NaN</td>\n",
       "      <td>43927,607962963</td>\n",
       "      <td>NaN</td>\n",
       "      <td>None</td>\n",
       "      <td>21</td>\n",
       "      <td>21</td>\n",
       "    </tr>\n",
       "    <tr>\n",
       "      <th>3262</th>\n",
       "      <td>7820341496</td>\n",
       "      <td>Musée Napoléon Ier et Trésors des Églises</td>\n",
       "      <td>NaN</td>\n",
       "      <td>Rue du Maréchal Valée</td>\n",
       "      <td>10500</td>\n",
       "      <td>Brienne-le-Château</td>\n",
       "      <td>France</td>\n",
       "      <td>fr</td>\n",
       "      <td>48.389077</td>\n",
       "      <td>4.527967</td>\n",
       "      <td>...</td>\n",
       "      <td>NaN</td>\n",
       "      <td>3.332593e+10</td>\n",
       "      <td>NaN</td>\n",
       "      <td>osm:museum</td>\n",
       "      <td>NaN</td>\n",
       "      <td>44197,0378356481</td>\n",
       "      <td>NaN</td>\n",
       "      <td>None</td>\n",
       "      <td>10</td>\n",
       "      <td>10</td>\n",
       "    </tr>\n",
       "  </tbody>\n",
       "</table>\n",
       "<p>4 rows × 21 columns</p>\n",
       "</div>"
      ],
      "text/plain": [
       "          osm_id                                       name number  \\\n",
       "3259  3678466279                             Musée Napoléon    NaN   \n",
       "3260    64991060                             Musée Napoléon    NaN   \n",
       "3261   480527098                         Musée Napoléon Ier    NaN   \n",
       "3262  7820341496  Musée Napoléon Ier et Trésors des Églises    NaN   \n",
       "\n",
       "                     street postal_code                city country  \\\n",
       "3259                   D 32         nan           Périgueux  France   \n",
       "3260       Rue des Remparts       17123           Île-d'Aix  France   \n",
       "3261     Rue de la Perrière       21220               Fixin  France   \n",
       "3262  Rue du Maréchal Valée       10500  Brienne-le-Château  France   \n",
       "\n",
       "     country_code        lat       lon  ... email         phone  fax  \\\n",
       "3259           fr  44.974544  0.837015  ...   NaN           NaN  NaN   \n",
       "3260           fr  46.013011 -1.174656  ...   NaN  3.354685e+10  NaN   \n",
       "3261           fr  47.245420  4.962403  ...   NaN  3.338052e+10  NaN   \n",
       "3262           fr  48.389077  4.527967  ...   NaN  3.332593e+10  NaN   \n",
       "\n",
       "            tags description        date_added  wikidata  type departement  \\\n",
       "3259  osm:museum         NaN  43811,9434027778  Q2178225  None          na   \n",
       "3260  osm:museum         NaN     43546,4584375       NaN  None          17   \n",
       "3261  osm:museum         NaN   43927,607962963       NaN  None          21   \n",
       "3262  osm:museum         NaN  44197,0378356481       NaN  None          10   \n",
       "\n",
       "     dept  \n",
       "3259   na  \n",
       "3260   17  \n",
       "3261   21  \n",
       "3262   10  \n",
       "\n",
       "[4 rows x 21 columns]"
      ]
     },
     "execution_count": 167,
     "metadata": {},
     "output_type": "execute_result"
    }
   ],
   "source": [
    "df[df['name'].str.find('Napoléon') != -1]"
   ]
  },
  {
   "cell_type": "code",
   "execution_count": 168,
   "id": "d070a92a",
   "metadata": {},
   "outputs": [
    {
     "data": {
      "text/plain": [
       "4"
      ]
     },
     "execution_count": 168,
     "metadata": {},
     "output_type": "execute_result"
    }
   ],
   "source": [
    "4"
   ]
  },
  {
   "cell_type": "markdown",
   "id": "c7254e9f",
   "metadata": {},
   "source": [
    "_____"
   ]
  },
  {
   "cell_type": "markdown",
   "id": "771154f9",
   "metadata": {},
   "source": [
    "_____"
   ]
  },
  {
   "cell_type": "markdown",
   "id": "2a2d0244",
   "metadata": {},
   "source": [
    "## Proposer deux axes d'analyse supplémentaires"
   ]
  },
  {
   "cell_type": "markdown",
   "id": "77b48adf",
   "metadata": {},
   "source": [
    "Nous pouvons utiliser l'estimation des temps de parcours en TGV (https://ressources.data.sncf.com/explore/dataset/meilleurs-temps-des-parcours-des-trains/table/?sort=annee)\n",
    "pour proposer des circuits reliant des musées avec des thèmes communs"
   ]
  },
  {
   "cell_type": "code",
   "execution_count": null,
   "id": "33d90114",
   "metadata": {},
   "outputs": [],
   "source": []
  }
 ],
 "metadata": {
  "kernelspec": {
   "display_name": "Python 3 (ipykernel)",
   "language": "python",
   "name": "python3"
  },
  "language_info": {
   "codemirror_mode": {
    "name": "ipython",
    "version": 3
   },
   "file_extension": ".py",
   "mimetype": "text/x-python",
   "name": "python",
   "nbconvert_exporter": "python",
   "pygments_lexer": "ipython3",
   "version": "3.10.4"
  }
 },
 "nbformat": 4,
 "nbformat_minor": 5
}
